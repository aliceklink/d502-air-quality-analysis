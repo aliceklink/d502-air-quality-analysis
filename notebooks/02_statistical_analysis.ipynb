{
 "cells": [
  {
   "cell_type": "markdown",
   "id": "08c66050",
   "metadata": {},
   "source": [
    "# Statistical Analysis\n",
    "## D502 Air Quality Analysis\n",
    "\n",
    "This notebook performs:\n",
    "- Correlation analysis between PM2.5 and asthma rates\n",
    "- Hypothesis testing\n",
    "- Statistical significance testing"
   ]
  },
  {
   "cell_type": "code",
   "execution_count": 1,
   "id": "bf4fdb38",
   "metadata": {
    "vscode": {
     "languageId": "plaintext"
    }
   },
   "outputs": [
    {
     "name": "stdout",
     "output_type": "stream",
     "text": [
      "Libraries imported successfully\n"
     ]
    }
   ],
   "source": [
    "# Import required libraries\n",
    "import sys\n",
    "import os\n",
    "sys.path.append('../src')\n",
    "\n",
    "import pandas as pd\n",
    "import numpy as np\n",
    "from scipy import stats\n",
    "\n",
    "# Import custom modules\n",
    "from statistical_analysis import calculate_correlation, perform_t_test, descriptive_statistics\n",
    "\n",
    "print(\"Libraries imported successfully\")"
   ]
  },
  {
   "cell_type": "code",
   "execution_count": null,
   "id": "8658f12a-8dd6-4dff-a018-a76ef9869d47",
   "metadata": {},
   "outputs": [],
   "source": []
  }
 ],
 "metadata": {
  "kernelspec": {
   "display_name": "Python 3 (ipykernel)",
   "language": "python",
   "name": "python3"
  },
  "language_info": {
   "codemirror_mode": {
    "name": "ipython",
    "version": 3
   },
   "file_extension": ".py",
   "mimetype": "text/x-python",
   "name": "python",
   "nbconvert_exporter": "python",
   "pygments_lexer": "ipython3",
   "version": "3.13.0"
  }
 },
 "nbformat": 4,
 "nbformat_minor": 5
}
