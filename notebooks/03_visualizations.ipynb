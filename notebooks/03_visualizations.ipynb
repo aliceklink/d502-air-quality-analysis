{
 "cells": [
  {
   "cell_type": "markdown",
   "id": "3e2481b4",
   "metadata": {},
   "source": [
    "# Data Visualizations\n",
    "## D502 Air Quality Analysis\n",
    "\n",
    "This notebook creates:\n",
    "- Scatter plots of PM2.5 vs asthma rates\n",
    "- Distribution plots\n",
    "- Statistical charts and maps"
   ]
  },
  {
   "cell_type": "code",
   "execution_count": 1,
   "id": "d501e639",
   "metadata": {
    "vscode": {
     "languageId": "plaintext"
    }
   },
   "outputs": [
    {
     "name": "stdout",
     "output_type": "stream",
     "text": [
      "Libraries imported successfully\n"
     ]
    }
   ],
   "source": [
    "# Import required libraries\n",
    "import sys\n",
    "import os\n",
    "sys.path.append('../src')\n",
    "\n",
    "import pandas as pd\n",
    "import numpy as np\n",
    "import matplotlib.pyplot as plt\n",
    "import seaborn as sns\n",
    "import plotly.express as px\n",
    "\n",
    "print(\"Libraries imported successfully\")"
   ]
  },
  {
   "cell_type": "code",
   "execution_count": null,
   "id": "5b23d268-50e8-45d3-89b8-ac8a9d4ed6a8",
   "metadata": {},
   "outputs": [],
   "source": []
  }
 ],
 "metadata": {
  "kernelspec": {
   "display_name": "Python 3 (ipykernel)",
   "language": "python",
   "name": "python3"
  },
  "language_info": {
   "codemirror_mode": {
    "name": "ipython",
    "version": 3
   },
   "file_extension": ".py",
   "mimetype": "text/x-python",
   "name": "python",
   "nbconvert_exporter": "python",
   "pygments_lexer": "ipython3",
   "version": "3.13.0"
  }
 },
 "nbformat": 4,
 "nbformat_minor": 5
}
