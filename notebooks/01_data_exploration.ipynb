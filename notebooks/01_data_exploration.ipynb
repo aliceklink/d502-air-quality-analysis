{
 "cells": [
  {
   "cell_type": "markdown",
   "id": "4576e684",
   "metadata": {},
   "source": [
    "# Data Exploration and Collection\n",
    "## D502 Air Quality Analysis\n",
    "\n",
    "This notebook handles:\n",
    "- Data collection from EPA and CDC sources\n",
    "- Initial data cleaning and exploration\n",
    "- Data quality assessment"
   ]
  },
  {
   "cell_type": "code",
   "execution_count": 1,
   "id": "004cd557",
   "metadata": {
    "vscode": {
     "languageId": "plaintext"
    }
   },
   "outputs": [
    {
     "name": "stdout",
     "output_type": "stream",
     "text": [
      "Libraries imported successfully\n"
     ]
    }
   ],
   "source": [
    "# Import required libraries\n",
    "import sys\n",
    "import os\n",
    "sys.path.append('../src')  # Add src directory to path\n",
    "\n",
    "import pandas as pd\n",
    "import numpy as np\n",
    "import matplotlib.pyplot as plt\n",
    "import seaborn as sns\n",
    "\n",
    "# Import custom modules\n",
    "from data_collection import download_epa_data, download_cdc_data, merge_datasets\n",
    "\n",
    "print(\"Libraries imported successfully\")"
   ]
  },
  {
   "cell_type": "code",
   "execution_count": null,
   "id": "c4321d1c-e715-409f-8881-3e4353a013fc",
   "metadata": {},
   "outputs": [],
   "source": []
  }
 ],
 "metadata": {
  "kernelspec": {
   "display_name": "Python 3 (ipykernel)",
   "language": "python",
   "name": "python3"
  },
  "language_info": {
   "codemirror_mode": {
    "name": "ipython",
    "version": 3
   },
   "file_extension": ".py",
   "mimetype": "text/x-python",
   "name": "python",
   "nbconvert_exporter": "python",
   "pygments_lexer": "ipython3",
   "version": "3.13.0"
  }
 },
 "nbformat": 4,
 "nbformat_minor": 5
}
